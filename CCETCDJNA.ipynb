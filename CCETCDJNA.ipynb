{
 "cells": [
  {
   "cell_type": "markdown",
   "metadata": {},
   "source": [
    "# Curso de Entorno de Trabajo para Ciencia de Datos con Jupyter Notebooks y Anaconda\n",
    "Utilizaremos los entornos virtualues en *Conda* así que lo mejor será utilizar un entorno basado en UNIX o  Linux\n",
    " Tambien usaremos en entorno de  Notebooks, que  te permiten ver lo que haces, a medida de que lo haces, en estos puedes encargarte de experimentar así tener una idea más visual de los que estamos haciendo.\n",
    " \n",
    "Algo util para poder organizar los documentos de una forma mas secilla es usando los comandos:\n",
    "\n",
    "     *ctrl + shift + p* \\n\n",
    "\n",
    "despues seleccionando el texto que quieres que formate  y escribes en la barra que sale\n",
    "\n",
    "     \n",
    "     *Format document*  \n",
    "     \n",
    "    \n"
   ]
  },
  {
   "cell_type": "markdown",
   "metadata": {},
   "source": [
    "## Entorno virtuales\n",
    "Son una pequeña copia de python  en especifico para cada uno de tus proyectos en pocas palabras su deficinición es :\n",
    "**Entorno virtual**\n",
    " Proyecto que puede tener sus propias dependencias, independientemente de las dependencias que tengan los demás proyectos (Scott Robinson y la gente de Real Python)."
   ]
  },
  {
   "cell_type": "markdown",
   "metadata": {},
   "source": [
    "### Instalar Conda\n",
    "\n",
    "Sé realizara por medio de la consola. Conda es una gestión de paquetes, dependencias y entornos para cualquier leguaje: Python, R, Ruby, Lua, Scala, JavaScript, C/C ++, FORTRAN y más\n",
    "\n",
    "Recordemos que es una buena practica actulizar el sistema\n",
    "\n",
    "    sudo apt-get update\n",
    "\n",
    "    sudo apt-get upgrade\n",
    "\n",
    "\n",
    "iremos a la pagina de  https://www.anaconda.com/products/individual , una vez en la pagina, comenzamos por copiar el link del archivo que necesitemos en este caso  la version  para linux, ( es mi sistema operativo) Despues  iremos a la terminal a colocar los siguientes comandos:\n",
    "\n",
    "    wget -O anaconda.sh https://repo.anaconda.com/archive/Anaconda3-2021.05-Linux-x86_64.sh\n",
    "\n",
    "Recondemos que el **wget**  es para  traer cualquier archivo desde internet.\n",
    "Para instalar hacemos:\n",
    "    \n",
    "     bash anaconda.sh\n",
    "Te preguntará si deseas continuar con la descarga e instalación darás:\n",
    "\n",
    "    yes\n",
    "\n",
    "    yes\n",
    "Una vez terminado comncemos a jugar con conda!\n",
    "\n"
   ]
  },
  {
   "cell_type": "markdown",
   "metadata": {},
   "source": [
    "### Iniciar conda\n",
    "\n",
    "Para iniciar conda podemos colocar el conmando:\n",
    "\n",
    "    conda init\n",
    "\n",
    "Para abrir notebooks usamos:\n",
    "\n",
    "    jupyter-notebook\n",
    "\n",
    "Nos regresará tres links para trabajar, así que copiamos el link de preferencia el que diga *local host*  y pegamos en nuestro navegador, nos enviara a Jupyter y podremos trabjar  y configurar a nuestro gusto.\n",
    " "
   ]
  },
  {
   "cell_type": "markdown",
   "metadata": {},
   "source": [
    "### Crear ambierte virtual\n",
    "\n",
    "    conda env list\n",
    "Nos permite ver los ambientes creados \n",
    "\n",
    "Para crear un ambiente escribimos:\n",
    "\n",
    "    conda create --name py35 python=3.5 pandas\n",
    "\n",
    "En este ejemplo instalaremos la version 3.5 de python y ademas la ultima version de pandas (Si no se le especifica la versió, conda descargará la más nueva)\n",
    "Ahora para activar los anvientes se debe de colocar los comandos :\n",
    "\n",
    "    conda activate py35\n",
    "\n",
    "Para desactivar:\n",
    "\n",
    "    conda deactivate \n",
    "\n",
    "Para buscar un paquete en especifico:\n",
    "\n",
    "    conda list pandas\n",
    "\n",
    "Para actulizar un paquete en especifico al más reciente:\n",
    "\n",
    "    conda update pandas\n",
    "\n",
    "Para instalar paquetes  en especifico\n",
    "\n",
    "    conda install pandas=1.2\n",
    "\n",
    "copiar o clonar  ambientes:\n",
    "\n",
    "    conda create --name py39 --copy --clone py35\n",
    "\n",
    "creamos el ambiente py39 y lo copiamos de py35\n",
    "\n",
    "\n",
    "\n"
   ]
  },
  {
   "cell_type": "markdown",
   "metadata": {},
   "source": [
    "### Eliminar Ambientes y librerias\n",
    "\n",
    "Para eliminar librerias nos colocamos o activamos en  el ambiente que queremos eliminar la libreria\n",
    "usamos el comando:\n",
    "\n",
    "    conda remove pandas\n",
    "\n",
    "y damos continuar. Revisamos que se eliminó con el comado:\n",
    "\n",
    "    conda list pandas\n",
    "y nos aparece en blanco.\n",
    "\n",
    "Para desistalar un ambiente entero primero desactivamos el ambiente a eliminar\n",
    "\n",
    "    conda env remove --name py35\n"
   ]
  },
  {
   "cell_type": "markdown",
   "metadata": {},
   "source": [
    "### Comandos avanzados\n",
    "\n",
    "#### Librerias no encontradas\n",
    "Si por ejemplo conda no encuentra la libreria que nosotros deseamos, entonces entramos a la pagina anaconda.org uy buscamos manualmente nuetra libreria de interes. Una vez que tenemos los resultados notaremos que  nos da **canales** en donde encontraremos  la libreria que nos interesa  y regresamos a la terminal.\n",
    "Por ejemplo:\n",
    "\n",
    "    Conda install --channel conda-force librias_De_interes\n",
    "\n",
    "y aceptas la transacción. verificamos la instalación de la libreria\n",
    "\n",
    "    conda list libreria_de_interes\n",
    "\n",
    "Para desistalar tenemos que \n",
    "\n",
    "    conda list --revision \n",
    "\n",
    "y nos arroja la revisión \n",
    "\n",
    "Para volver a la versión antes de lo que instalaste:\n",
    "\n",
    "    conda install 0\n",
    "\n",
    "#### Exportar ambiente\n",
    "Para poder replicar los resultados\n",
    "\n",
    "    conda env export\n",
    "\n",
    "    conda env export --from-history \n",
    "\n",
    "Para exportarlo en un archivo de texto:\n",
    "\n",
    "    conda env export --from-history --file environment.yml \n",
    "Y que alguien más lo instale:\n",
    "\n",
    "    conda env create --file environment.yml\n",
    "\n",
    "Y ya conda lee e intala las dependencias\n",
    "\n",
    "Ahora veremos una herramienta más para nuestro camino por la ciencia de datos\n",
    "\n",
    "\n",
    "\n"
   ]
  },
  {
   "cell_type": "markdown",
   "metadata": {},
   "source": [
    "### Manba una reimplementacion de ambientes virtuales\n",
    "Mamba es una re-implementación de Conda (en C++) para la creación de ambientes virtuales. 🤖 Lo hace en paralelo, e incluye multiples optimizaciones que lo hacen más rápido.\n",
    "Mamba funciona de la misma manera que conda\n",
    "Usaremos conda para la instalción de mamba\n",
    "\n",
    "    conda install --channel conda-forge mamba\n",
    "\n",
    "y aceptamos\n",
    "\n",
    "podemos crear o usar mamba de la misma manera, por ejemplo crear ambientes es mucho mas rapido\n"
   ]
  },
  {
   "cell_type": "markdown",
   "metadata": {},
   "source": [
    "## Conclusión\n",
    "\n",
    "### Divide y venceras\n",
    "\n",
    "1. **Escoge tu lugar y herramienta de trabajo ¡es muy importante!.** Prueba diviértete y escoge la que más\n",
    "te agrade.\n",
    "\n",
    "2. **Siempre utiliza ambientes virtuales.** Te sentiras más tranquilo al momento de modificar tus proyectos\n",
    "\n",
    "3. **¡Nunca pares de aprender!**"
   ]
  },
  {
   "cell_type": "code",
   "execution_count": null,
   "metadata": {},
   "outputs": [],
   "source": []
  }
 ],
 "metadata": {
  "interpreter": {
   "hash": "31f2aee4e71d21fbe5cf8b01ff0e069b9275f58929596ceb00d14d90e3e16cd6"
  },
  "kernelspec": {
   "display_name": "Python 3.8.10 64-bit",
   "language": "python",
   "name": "python3"
  },
  "language_info": {
   "name": "python",
   "version": "3.8.3"
  },
  "orig_nbformat": 4
 },
 "nbformat": 4,
 "nbformat_minor": 2
}
