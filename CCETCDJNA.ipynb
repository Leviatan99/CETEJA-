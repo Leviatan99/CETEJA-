{
 "cells": [
  {
   "cell_type": "markdown",
   "metadata": {},
   "source": [
    "# Curso de Entorno de Trabajo para Ciencia de Datos con Jupyter Notebooks y Anaconda\n",
    "Utilizaremos los entornos virtualues en *Conda* así que lo mejor será utilizar un entorno basado en UNIX o  Linux\n",
    " Tambien usaremos en entorno de  Notebooks, que  te permiten ver lo que haces, a medida de que lo haces, en estos puedes encargarte de experimentar así tener una idea más visual de los que estamos haciendo.\n",
    " \n"
   ]
  },
  {
   "cell_type": "code",
   "execution_count": null,
   "metadata": {},
   "outputs": [],
   "source": []
  }
 ],
 "metadata": {
  "language_info": {
   "name": "python"
  },
  "orig_nbformat": 4
 },
 "nbformat": 4,
 "nbformat_minor": 2
}
